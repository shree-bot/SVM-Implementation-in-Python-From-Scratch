{
  "nbformat": 4,
  "nbformat_minor": 0,
  "metadata": {
    "colab": {
      "name": "SVM Implementation in Python From Scratch.ipynb",
      "provenance": [],
      "authorship_tag": "ABX9TyNLrRX81jqCCeAuYqmh1bLG",
      "include_colab_link": true
    },
    "kernelspec": {
      "name": "python3",
      "display_name": "Python 3"
    },
    "language_info": {
      "name": "python"
    },
    "accelerator": "GPU"
  },
  "cells": [
    {
      "cell_type": "markdown",
      "metadata": {
        "id": "view-in-github",
        "colab_type": "text"
      },
      "source": [
        "<a href=\"https://colab.research.google.com/github/shree-bot/SVM-Implementation-in-Python-From-Scratch/blob/main/SVM_Implementation_in_Python_From_Scratch.ipynb\" target=\"_parent\"><img src=\"https://colab.research.google.com/assets/colab-badge.svg\" alt=\"Open In Colab\"/></a>"
      ]
    },
    {
      "cell_type": "markdown",
      "metadata": {
        "id": "iXRiKHoDeI66"
      },
      "source": [
        "**What is Support Vector Machine?**\n",
        "\n",
        "**SVM ( Support Vector Machine)** is a supervised machine learning algorithm. That’s why training data is available to train the model. **SVM** uses a classification algorithm to classify a two group problem. **SVM** focus on decision boundary and support vectors, which we will discuss in the next section."
      ]
    },
    {
      "cell_type": "markdown",
      "metadata": {
        "id": "So5uqVOaeaF1"
      },
      "source": [
        "**Import the Libraries**"
      ]
    },
    {
      "cell_type": "code",
      "metadata": {
        "id": "a_hxk682Ldy1"
      },
      "source": [
        "import numpy as np\n",
        "import matplotlib.pyplot as plt\n",
        "from sklearn import datasets\n",
        "from sklearn import svm\n",
        "%matplotlib inline"
      ],
      "execution_count": 1,
      "outputs": []
    },
    {
      "cell_type": "code",
      "metadata": {
        "colab": {
          "base_uri": "https://localhost:8080/"
        },
        "id": "S2pfjGJuMVw_",
        "outputId": "5c15fc6d-e68e-46d9-ae77-6397317f8f79"
      },
      "source": [
        "X, y = datasets.make_blobs(n_samples= 50, centers= 2, n_features= 2, cluster_std= 1.05, random_state= 10)\n",
        "y = np.where(y == 0, -1, 1)\n",
        "y"
      ],
      "execution_count": 3,
      "outputs": [
        {
          "output_type": "execute_result",
          "data": {
            "text/plain": [
              "array([ 1,  1, -1,  1,  1,  1,  1, -1,  1, -1, -1,  1,  1, -1,  1, -1, -1,\n",
              "       -1,  1,  1, -1,  1, -1, -1, -1,  1, -1, -1, -1, -1, -1,  1,  1, -1,\n",
              "        1, -1,  1, -1, -1, -1,  1,  1,  1,  1,  1, -1, -1,  1,  1, -1])"
            ]
          },
          "metadata": {},
          "execution_count": 3
        }
      ]
    },
    {
      "cell_type": "code",
      "metadata": {
        "colab": {
          "base_uri": "https://localhost:8080/"
        },
        "id": "dtaTHfQdMudV",
        "outputId": "bdf7b5ac-2159-41a1-c59f-317887968dd7"
      },
      "source": [
        "X.shape"
      ],
      "execution_count": 4,
      "outputs": [
        {
          "output_type": "execute_result",
          "data": {
            "text/plain": [
              "(50, 2)"
            ]
          },
          "metadata": {},
          "execution_count": 4
        }
      ]
    },
    {
      "cell_type": "code",
      "metadata": {
        "id": "k2FiDeeGNStl"
      },
      "source": [
        "class SVM:\n",
        "    def __init__(self,learning_rate=0.001,lambda_param=0.01,iters=10000):\n",
        "        self.lr = learning_rate\n",
        "        self.lambda_param = lambda_param\n",
        "        self.iters = iters\n",
        "        self.w = None\n",
        "        self.b = None\n",
        "        \n",
        "    def fit(self,x,y):\n",
        "        y=np.where(y<= 0,-1,1)\n",
        "        n_samples,n_features =x.shape\n",
        "        \n",
        "        self.w = np.zeros(n_features)\n",
        "        self.b = 0\n",
        "        for i in range(self.iters):\n",
        "            for idx,x_i in enumerate(x):\n",
        "                condition = y[idx] * (np.dot(x_i,self.w) - self.b)>=1\n",
        "                if condition:\n",
        "                    self.w -= self.lr * (2* self.lambda_param * self.w)\n",
        "                else:\n",
        "                    self.w -= self.lr * (2* self.lambda_param * self.w - np.dot(x_i,y[idx]))\n",
        "                    self.b -= self.lr * y[idx]\n",
        "                \n",
        "    def predict(self,x):\n",
        "        linear_out = np.dot(x,self.w) - self.b\n",
        "        return np.sign(linear_out)"
      ],
      "execution_count": 5,
      "outputs": []
    },
    {
      "cell_type": "code",
      "metadata": {
        "colab": {
          "base_uri": "https://localhost:8080/"
        },
        "id": "xLASxBAwQCVd",
        "outputId": "e06a340c-4afd-4536-9134-810dd7301719"
      },
      "source": [
        "clf = svm.SVC(kernel= 'linear')\n",
        "clf.fit(X, y)"
      ],
      "execution_count": 6,
      "outputs": [
        {
          "output_type": "execute_result",
          "data": {
            "text/plain": [
              "SVC(C=1.0, break_ties=False, cache_size=200, class_weight=None, coef0=0.0,\n",
              "    decision_function_shape='ovr', degree=3, gamma='scale', kernel='linear',\n",
              "    max_iter=-1, probability=False, random_state=None, shrinking=True,\n",
              "    tol=0.001, verbose=False)"
            ]
          },
          "metadata": {},
          "execution_count": 6
        }
      ]
    },
    {
      "cell_type": "code",
      "metadata": {
        "colab": {
          "base_uri": "https://localhost:8080/"
        },
        "id": "IGT0u7JXTiCF",
        "outputId": "eaaf0831-0905-4fd2-f39d-89f14ca78b61"
      },
      "source": [
        "print(clf.coef_)"
      ],
      "execution_count": 7,
      "outputs": [
        {
          "output_type": "stream",
          "text": [
            "[[-0.04131594  0.19096971]]\n"
          ],
          "name": "stdout"
        }
      ]
    },
    {
      "cell_type": "code",
      "metadata": {
        "id": "yIgrXfNIT-eK"
      },
      "source": [
        "clf_1 = SVM()\n",
        "clf_1.fit(X, y)"
      ],
      "execution_count": 8,
      "outputs": []
    },
    {
      "cell_type": "code",
      "metadata": {
        "colab": {
          "base_uri": "https://localhost:8080/"
        },
        "id": "81TYRo7hUBuj",
        "outputId": "5f0d709f-fda7-4f6c-83bc-d7c08f2e2cb7"
      },
      "source": [
        "print(clf_1.w, clf_1.b)"
      ],
      "execution_count": 9,
      "outputs": [
        {
          "output_type": "stream",
          "text": [
            "[0.01507799 0.21286664] -0.3850000000000003\n"
          ],
          "name": "stdout"
        }
      ]
    },
    {
      "cell_type": "code",
      "metadata": {
        "colab": {
          "base_uri": "https://localhost:8080/",
          "height": 295
        },
        "id": "bNr0sD0KUD20",
        "outputId": "e03efd79-a3c1-44a9-f275-5e54aa58b073"
      },
      "source": [
        "support_vectors = clf.support_vectors_\n",
        "plt.scatter(X[:, 1], X[:, 0])\n",
        "plt.plot(support_vectors[0][:], support_vectors[1][:], color='violet')\n",
        "plt.title('Linearly separable data with support vectors')\n",
        "plt.xlabel('X1')\n",
        "plt.ylabel('X2')\n",
        "plt.show()"
      ],
      "execution_count": 11,
      "outputs": [
        {
          "output_type": "display_data",
          "data": {
            "image/png": "[encoded data removed]",
            "text/plain": [
              "<Figure size 432x288 with 1 Axes>"
            ]
          },
          "metadata": {
            "needs_background": "light"
          }
        }
      ]
    },
    {
      "cell_type": "code",
      "metadata": {
        "colab": {
          "base_uri": "https://localhost:8080/",
          "height": 265
        },
        "id": "wvESrrNyUG3i",
        "outputId": "bf6a75a6-bd0f-44ed-815b-ba799cdf87d7"
      },
      "source": [
        "ax = plt.gca()\n",
        "plt.scatter(X[:, 0], X[:, 1], c=y, s=50, cmap='autumn')\n",
        "xlim = ax.get_xlim()\n",
        "ylim = ax.get_ylim()\n",
        "\n",
        "xx = np.linspace(xlim[0], xlim[1], 30)\n",
        "yy = np.linspace(ylim[0], ylim[1], 30)\n",
        "YY, XX = np.meshgrid(yy, xx)\n",
        "xy = np.vstack([XX.ravel(), YY.ravel()]).T\n",
        "Z = clf.decision_function(xy).reshape(XX.shape)\n",
        "\n",
        "ax.contour(XX, YY, Z, colors='k', levels=[-1, 0, 1], alpha=0.5,\n",
        "           linestyles=['--', '-', '--'])\n",
        "\n",
        "ax.scatter(clf.support_vectors_[:, 0], clf.support_vectors_[:, 1], s=100,\n",
        "           linewidth=1, facecolors='none', edgecolors='k')\n",
        "plt.show()\n"
      ],
      "execution_count": 12,
      "outputs": [
        {
          "output_type": "display_data",
          "data": {
            "image/png": "[encoded data removed]",
            "text/plain": [
              "<Figure size 432x288 with 1 Axes>"
            ]
          },
          "metadata": {
            "needs_background": "light"
          }
        }
      ]
    }
  ]
}